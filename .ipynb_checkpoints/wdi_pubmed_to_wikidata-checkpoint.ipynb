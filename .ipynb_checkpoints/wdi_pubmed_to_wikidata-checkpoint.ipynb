{
 "cells": [
  {
   "cell_type": "markdown",
   "metadata": {
    "jupyter": {
     "source_hidden": true
    }
   },
   "source": [
    "# Using Wikidata Integrator to add articles to Wikidata\n",
    "\n",
    "In this tutorial, I will show how to use the Wikidata Integrator to add an entry for an biomedical article from PubMed to Wikidata via its PubMed id.\n",
    "\n",
    "First, let's see what happens for a PMID which is already there. \n",
    "\n",
    "The example PMID will be 32180547, which points to the article [Wikidata as a knowledge graph for the life sciences\n",
    "](https://elifesciences.org/articles/52614).\n",
    "\n",
    "The credentials for Wikidata are in src.local stored in the variables \"WDUSER\" and \"WDPASS.\"\n"
   ]
  },
  {
   "cell_type": "code",
   "execution_count": 9,
   "metadata": {},
   "outputs": [
    {
     "name": "stdout",
     "output_type": "stream",
     "text": [
      "https://www.wikidata.org/w/api.php\n",
      "Successfully logged in as CellosaurusBot\n"
     ]
    }
   ],
   "source": [
    "import wikidataintegrator as wdi\n",
    "from src.local import WDUSER, WDPASS\n",
    "\n",
    "\n",
    "pubmed_id = 32180547\n",
    "\n",
    "login_instance = wdi_login.WDLogin(WDUSER, WDPASS)\n",
    "\n",
    "item = wdi.wdi_helpers.publication.europepmc_api_to_publication(pubmed_id, id_type=\"pmid\")\n",
    "\n"
   ]
  },
  {
   "cell_type": "code",
   "execution_count": 8,
   "metadata": {},
   "outputs": [
    {
     "name": "stdout",
     "output_type": "stream",
     "text": [
      "<wikidataintegrator.wdi_helpers.publication.Publication object at 0x7f21882247f0>\n"
     ]
    }
   ],
   "source": [
    "print(item)"
   ]
  },
  {
   "cell_type": "code",
   "execution_count": null,
   "metadata": {},
   "outputs": [],
   "source": []
  }
 ],
 "metadata": {
  "kernelspec": {
   "display_name": "Python 3",
   "language": "python",
   "name": "python3"
  },
  "language_info": {
   "codemirror_mode": {
    "name": "ipython",
    "version": 3
   },
   "file_extension": ".py",
   "mimetype": "text/x-python",
   "name": "python",
   "nbconvert_exporter": "python",
   "pygments_lexer": "ipython3",
   "version": "3.6.9"
  }
 },
 "nbformat": 4,
 "nbformat_minor": 4
}
