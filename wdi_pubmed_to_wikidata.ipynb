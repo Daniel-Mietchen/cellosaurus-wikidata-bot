{
 "cells": [
  {
   "cell_type": "markdown",
   "metadata": {},
   "source": [
    "# Using Wikidata Integrator to add articles to Wikidata\n",
    "\n",
    "In this tutorial, I will show how to use the Wikidata Integrator to add an entry for an biomedical article from PubMed to Wikidata via its PubMed id.\n",
    "\n",
    "First, let's see what happens for a PMID which is already there. \n",
    "\n",
    "The example PMID will be 32180547, which points to the article [Wikidata as a knowledge graph for the life sciences\n",
    "](https://elifesciences.org/articles/52614).\n",
    "\n",
    "The credentials for Wikidata are in src.local stored in the variables \"WDUSER\" and \"WDPASS.\"\n"
   ]
  },
  {
   "cell_type": "code",
   "execution_count": 1,
   "metadata": {},
   "outputs": [
    {
     "name": "stdout",
     "output_type": "stream",
     "text": [
      "https://www.wikidata.org/w/api.php\n",
      "Successfully logged in as CellosaurusBot\n"
     ]
    }
   ],
   "source": [
    "import wikidataintegrator as wdi\n",
    "from src.local import WDUSER, WDPASS\n",
    "\n",
    "\n",
    "pubmed_id = 32180547\n",
    "login_instance = wdi.wdi_login.WDLogin(WDUSER, WDPASS)\n",
    "\n",
    "item = wdi.wdi_helpers.publication.europepmc_api_to_publication(pubmed_id, id_type=\"pmid\")\n",
    "\n"
   ]
  },
  {
   "cell_type": "code",
   "execution_count": 2,
   "metadata": {},
   "outputs": [
    {
     "name": "stdout",
     "output_type": "stream",
     "text": [
      "<wikidataintegrator.wdi_helpers.publication.Publication object at 0x7f3d653d5c88>\n"
     ]
    }
   ],
   "source": [
    "print(item)"
   ]
  },
  {
   "cell_type": "markdown",
   "metadata": {},
   "source": [
    "In the previous steps, we built the structure of the article in Wikidata Integrator, \n",
    "but it still hasn't been sent to Wikidata.\n",
    "\n",
    "Let's run the function to try and add it to WIikidata. If it is already on Wikidata,\n",
    "we get a tuple containing the Wikidata item, an empty list and a \"True\" response:"
   ]
  },
  {
   "cell_type": "code",
   "execution_count": 3,
   "metadata": {},
   "outputs": [
    {
     "data": {
      "text/plain": [
       "('Q87830400', [], True)"
      ]
     },
     "execution_count": 3,
     "metadata": {},
     "output_type": "execute_result"
    }
   ],
   "source": [
    "item.get_or_create(login_instance)"
   ]
  },
  {
   "cell_type": "markdown",
   "metadata": {},
   "source": [
    "Now let's try it with an PMID which is not on Wikidata yet. \n",
    "I will look for articles that have just been published.\n",
    "\n",
    "The article [ChAdOx1 nCoV-19 vaccine prevents SARS-CoV-2 pneumonia in rhesus macaque](https://www.nature.com/articles/s41586-020-2608-y) is\n",
    "very important, but it still isn't on Wikidata. I've searched for its title on [PubMed](https://pubmed.ncbi.nlm.nih.gov/32731258/) and got its PMID:\n",
    "32731258.\n",
    "\n",
    "Let's do it!"
   ]
  },
  {
   "cell_type": "code",
   "execution_count": 4,
   "metadata": {},
   "outputs": [
    {
     "name": "stdout",
     "output_type": "stream",
     "text": [
      "https://www.wikidata.org/w/api.php\n",
      "Successfully logged in as CellosaurusBot\n",
      "Error while writing to Wikidata\n",
      "{'error': {'code': 'modification-failed', 'info': 'Must be at least one character long', 'messages': [{'name': 'wikibase-validator-too-short', 'parameters': ['1', ''], 'html': {'*': 'Must be at least one character long'}}], '*': 'See https://www.wikidata.org/w/api.php for API usage. Subscribe to the mediawiki-api-announce mailing list at &lt;https://lists.wikimedia.org/mailman/listinfo/mediawiki-api-announce&gt; for notice of API deprecations and breaking changes.'}, 'servedby': 'mw1289'}\n"
     ]
    },
    {
     "data": {
      "text/plain": [
       "('',\n",
       " ['unknown publication type, assuming publication'],\n",
       " wikidataintegrator.wdi_core.WDApiError({'error': {'code': 'modification-failed',\n",
       "                                          'info': 'Must be at least one character long',\n",
       "                                          'messages': [{'name': 'wikibase-validator-too-short',\n",
       "                                            'parameters': ['1', ''],\n",
       "                                            'html': {'*': 'Must be at least one character long'}}],\n",
       "                                          '*': 'See https://www.wikidata.org/w/api.php for API usage. Subscribe to the mediawiki-api-announce mailing list at &lt;https://lists.wikimedia.org/mailman/listinfo/mediawiki-api-announce&gt; for notice of API deprecations and breaking changes.'},\n",
       "                                         'servedby': 'mw1289'}))"
      ]
     },
     "execution_count": 4,
     "metadata": {},
     "output_type": "execute_result"
    }
   ],
   "source": [
    "pubmed_id = 32731258\n",
    "login_instance = wdi.wdi_login.WDLogin(WDUSER, WDPASS)\n",
    "\n",
    "item = wdi.wdi_helpers.publication.europepmc_api_to_publication(pubmed_id, id_type=\"pmid\")\n",
    "\n",
    "item.get_or_create(login_instance)"
   ]
  },
  {
   "cell_type": "markdown",
   "metadata": {},
   "source": [
    "Oh no, we had an API error!"
   ]
  },
  {
   "cell_type": "markdown",
   "metadata": {},
   "source": [
    "Hello, \n",
    "\n",
    "I have tried to use the publication module to update wikidata and got an error. This is the code I run:\n",
    "\n",
    "`import wikidataintegrator as wdi\n",
    "from src.local import WDUSER, WDPASS\n",
    "\n",
    "pubmed_id = 32731258\n",
    "login_instance = wdi.wdi_login.WDLogin(WDUSER, WDPASS)\n",
    "\n",
    "item = wdi.wdi_helpers.publication.europepmc_api_to_publication(pubmed_id, id_type=\"pmid\")\n",
    "\n",
    "item.get_or_create(login_instance)`"
   ]
  },
  {
   "cell_type": "code",
   "execution_count": null,
   "metadata": {},
   "outputs": [],
   "source": []
  }
 ],
 "metadata": {
  "kernelspec": {
   "display_name": "Python 3",
   "language": "python",
   "name": "python3"
  },
  "language_info": {
   "codemirror_mode": {
    "name": "ipython",
    "version": 3
   },
   "file_extension": ".py",
   "mimetype": "text/x-python",
   "name": "python",
   "nbconvert_exporter": "python",
   "pygments_lexer": "ipython3",
   "version": "3.6.9"
  }
 },
 "nbformat": 4,
 "nbformat_minor": 4
}
